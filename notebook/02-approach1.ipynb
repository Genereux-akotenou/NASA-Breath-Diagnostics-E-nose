{
 "cells": [
  {
   "attachments": {},
   "cell_type": "markdown",
   "metadata": {},
   "source": [
    "<h4 style=\"background-color: #80c4e6; display: flex; padding: 0.5em;\">\n",
    "    NASA Breath Diagnosmtics Challenge\n",
    "</h4>"
   ]
  },
  {
   "attachments": {},
   "cell_type": "markdown",
   "metadata": {},
   "source": [
    "##### 1 - Data Exploration and Preparation"
   ]
  },
  {
   "cell_type": "code",
   "execution_count": 1,
   "metadata": {},
   "outputs": [],
   "source": [
    "# general setup\n",
    "import pandas as pd\n",
    "import os, glob, sys\n",
    "from sklearn.model_selection import train_test_split\n",
    "from sklearn.preprocessing import StandardScaler\n",
    "from sklearn.ensemble import RandomForestClassifier\n",
    "from sklearn.metrics import accuracy_score\n",
    "import matplotlib.pyplot as plt\n",
    "import seaborn as sns\n",
    "\n",
    "# utils setup\n",
    "current_directory = os.getcwd()\n",
    "root_directory = os.path.abspath(os.path.join(current_directory, os.pardir))\n",
    "sys.path.append(root_directory)\n",
    "\n",
    "# custom utils\n",
    "from utils.io import ENoseIO"
   ]
  },
  {
   "attachments": {},
   "cell_type": "markdown",
   "metadata": {},
   "source": [
    "##### 2 - Read and Load Data"
   ]
  },
  {
   "cell_type": "code",
   "execution_count": 3,
   "metadata": {},
   "outputs": [
    {
     "name": "stdout",
     "output_type": "stream",
     "text": [
      "['../dataset/train/NTL E-Nose - Patient 21.txt', '../dataset/train/NTL E-Nose - Patient 35.txt', '../dataset/train/NTL E-Nose - Patient 20.txt', '../dataset/train/NTL E-Nose - Patient 36.txt', '../dataset/train/NTL E-Nose - Patient 22.txt', '../dataset/train/NTL E-Nose - Patient 37.txt', '../dataset/train/NTL E-Nose - Patient 27.txt', '../dataset/train/NTL E-Nose - Patient 26.txt', '../dataset/train/NTL E-Nose - Patient 18.txt', '../dataset/train/NTL E-Nose - Patient 30.txt', '../dataset/train/NTL E-Nose - Patient 31.txt', '../dataset/train/NTL E-Nose - Patient 19.txt', '../dataset/train/NTL E-Nose - Patient 42.txt', '../dataset/train/NTL E-Nose - Patient 56.txt', '../dataset/train/NTL E-Nose - Patient 57.txt', '../dataset/train/NTL E-Nose - Patient 55.txt', '../dataset/train/NTL E-Nose - Patient 41.txt', '../dataset/train/NTL E-Nose - Patient 40.txt', '../dataset/train/NTL E-Nose - Patient 8.txt', '../dataset/train/NTL E-Nose - Patient 50.txt', '../dataset/train/NTL E-Nose - Patient 44.txt', '../dataset/train/NTL E-Nose - Patient 45.txt', '../dataset/train/NTL E-Nose - Patient 9.txt', '../dataset/train/NTL E-Nose - Patient 47.txt', '../dataset/train/NTL E-Nose - Patient 53.txt', '../dataset/train/NTL E-Nose - Patient 46.txt', '../dataset/train/NTL E-Nose - Patient 7.txt', '../dataset/train/NTL E-Nose - Patient 63.txt', '../dataset/train/NTL E-Nose - Patient 62.txt', '../dataset/train/NTL E-Nose - Patient 6.txt', '../dataset/train/NTL E-Nose - Patient 4.txt', '../dataset/train/NTL E-Nose - Patient 60.txt', '../dataset/train/NTL E-Nose - Patient 61.txt', '../dataset/train/NTL E-Nose - Patient 5.txt', '../dataset/train/NTL E-Nose - Patient 1.txt', '../dataset/train/NTL E-Nose - Patient 58.txt', '../dataset/train/NTL E-Nose - Patient 28.txt', '../dataset/train/NTL E-Nose - Patient 29.txt', '../dataset/train/NTL E-Nose - Patient 17.txt', '../dataset/train/NTL E-Nose - Patient 16.txt', '../dataset/train/NTL E-Nose - Patient 12.txt', '../dataset/train/NTL E-Nose - Patient 13.txt', '../dataset/train/NTL E-Nose - Patient 39.txt', '../dataset/train/NTL E-Nose - Patient 10.txt', '../dataset/train/NTL E-Nose - Patient 38.txt']\n"
     ]
    },
    {
     "ename": "IndexError",
     "evalue": "list index out of range",
     "output_type": "error",
     "traceback": [
      "\u001b[0;31m---------------------------------------------------------------------------\u001b[0m",
      "\u001b[0;31mIndexError\u001b[0m                                Traceback (most recent call last)",
      "Cell \u001b[0;32mIn[3], line 5\u001b[0m\n\u001b[1;32m      3\u001b[0m \u001b[39mprint\u001b[39m(train_files)\n\u001b[1;32m      4\u001b[0m train_data \u001b[39m=\u001b[39m pd\u001b[39m.\u001b[39mconcat([ENoseIO\u001b[39m.\u001b[39mread_patient_data(f) \u001b[39mfor\u001b[39;00m f \u001b[39min\u001b[39;00m train_files])\n\u001b[0;32m----> 5\u001b[0m test_data \u001b[39m=\u001b[39m pd\u001b[39m.\u001b[39mconcat([ENoseIO\u001b[39m.\u001b[39;49mread_patient_data(f) \u001b[39mfor\u001b[39;49;00m f \u001b[39min\u001b[39;49;00m test_files])\n",
      "Cell \u001b[0;32mIn[3], line 5\u001b[0m, in \u001b[0;36m<listcomp>\u001b[0;34m(.0)\u001b[0m\n\u001b[1;32m      3\u001b[0m \u001b[39mprint\u001b[39m(train_files)\n\u001b[1;32m      4\u001b[0m train_data \u001b[39m=\u001b[39m pd\u001b[39m.\u001b[39mconcat([ENoseIO\u001b[39m.\u001b[39mread_patient_data(f) \u001b[39mfor\u001b[39;00m f \u001b[39min\u001b[39;00m train_files])\n\u001b[0;32m----> 5\u001b[0m test_data \u001b[39m=\u001b[39m pd\u001b[39m.\u001b[39mconcat([ENoseIO\u001b[39m.\u001b[39;49mread_patient_data(f) \u001b[39mfor\u001b[39;00m f \u001b[39min\u001b[39;00m test_files])\n",
      "File \u001b[0;32m~/Documents/OPENCORE/DATA_CTF/NASA-Breath-Diagnostics-E-nose/utils/io.py:8\u001b[0m, in \u001b[0;36mENoseIO.read_patient_data\u001b[0;34m(filepath)\u001b[0m\n\u001b[1;32m      6\u001b[0m lines \u001b[39m=\u001b[39m file\u001b[39m.\u001b[39mreadlines()\n\u001b[1;32m      7\u001b[0m patient_id \u001b[39m=\u001b[39m \u001b[39mint\u001b[39m(lines[\u001b[39m0\u001b[39m]\u001b[39m.\u001b[39msplit(\u001b[39m'\u001b[39m\u001b[39m:\u001b[39m\u001b[39m'\u001b[39m)[\u001b[39m1\u001b[39m]\u001b[39m.\u001b[39mstrip())\n\u001b[0;32m----> 8\u001b[0m result \u001b[39m=\u001b[39m lines[\u001b[39m1\u001b[39;49m]\u001b[39m.\u001b[39;49msplit(\u001b[39m'\u001b[39;49m\u001b[39m:\u001b[39;49m\u001b[39m'\u001b[39;49m)[\u001b[39m1\u001b[39;49m]\u001b[39m.\u001b[39mstrip()\n\u001b[1;32m      9\u001b[0m data \u001b[39m=\u001b[39m pd\u001b[39m.\u001b[39mread_csv(filepath, sep\u001b[39m=\u001b[39m\u001b[39m'\u001b[39m\u001b[39m\\t\u001b[39;00m\u001b[39m'\u001b[39m, skiprows\u001b[39m=\u001b[39m\u001b[39m3\u001b[39m)\n\u001b[1;32m     10\u001b[0m data[\u001b[39m'\u001b[39m\u001b[39mPatient_ID\u001b[39m\u001b[39m'\u001b[39m] \u001b[39m=\u001b[39m patient_id\n",
      "\u001b[0;31mIndexError\u001b[0m: list index out of range"
     ]
    }
   ],
   "source": [
    "train_files = glob.glob('../dataset/train/*.txt')\n",
    "test_files = glob.glob('../dataset/test/*.txt')\n",
    "print(train_files)\n",
    "train_data = pd.concat([ENoseIO.read_patient_data(f) for f in train_files])\n",
    "test_data = pd.concat([ENoseIO.read_patient_data(f) for f in test_files])"
   ]
  },
  {
   "attachments": {},
   "cell_type": "markdown",
   "metadata": {},
   "source": [
    "##### 3 - Data Exploration"
   ]
  },
  {
   "cell_type": "code",
   "execution_count": null,
   "metadata": {},
   "outputs": [],
   "source": [
    "# Display some basic information about the dataset\n",
    "print(\"Train Data Info\")\n",
    "print(train_data.info())\n",
    "print(\"Test Data Info\")\n",
    "print(test_data.info())\n",
    "\n",
    "# Display the first few rows of the training data\n",
    "print(\"Train Data Sample\")\n",
    "print(train_data.head())\n",
    "\n",
    "# Count of POSITIVE and NEGATIVE cases\n",
    "print(\"Train Data Result Distribution\")\n",
    "print(train_data['Result'].value_counts())"
   ]
  },
  {
   "attachments": {},
   "cell_type": "markdown",
   "metadata": {},
   "source": [
    "#### 4 - Data Preprocessing"
   ]
  },
  {
   "cell_type": "code",
   "execution_count": null,
   "metadata": {},
   "outputs": [],
   "source": [
    "# Convert 'Result' to binary format (1 for POSITIVE, 0 for NEGATIVE)\n",
    "train_data['Result'] = train_data['Result'].apply(lambda x: 1 if x == 'POSITIVE' else 0)\n",
    "test_data['Result'] = test_data['Result'].apply(lambda x: 1 if x == 'POSITIVE' else 0)\n",
    "\n",
    "# Drop 'Min:Sec' column as it is not useful for training\n",
    "X_train = train_data.drop(columns=['Min:Sec', 'Patient_ID', 'Result'])\n",
    "y_train = train_data['Result']\n",
    "\n",
    "X_test = test_data.drop(columns=['Min:Sec', 'Patient_ID', 'Result'])\n",
    "y_test = test_data['Result']\n",
    "\n",
    "# Standardize the data\n",
    "scaler = StandardScaler()\n",
    "X_train_scaled = scaler.fit_transform(X_train)\n",
    "X_test_scaled = scaler.transform(X_test)"
   ]
  },
  {
   "attachments": {},
   "cell_type": "markdown",
   "metadata": {},
   "source": [
    "##### 5 - Model Training"
   ]
  },
  {
   "cell_type": "code",
   "execution_count": null,
   "metadata": {},
   "outputs": [],
   "source": [
    "# Train a Random Forest Classifier\n",
    "model = RandomForestClassifier(n_estimators=100, random_state=42)\n",
    "model.fit(X_train_scaled, y_train)"
   ]
  },
  {
   "attachments": {},
   "cell_type": "markdown",
   "metadata": {},
   "source": [
    "##### 6 - Model Evaluation"
   ]
  },
  {
   "cell_type": "code",
   "execution_count": null,
   "metadata": {},
   "outputs": [],
   "source": [
    "# Make predictions on the test set\n",
    "y_pred = model.predict(X_test_scaled)\n",
    "\n",
    "# Calculate accuracy\n",
    "accuracy = accuracy_score(y_test, y_pred)\n",
    "print(f'Accuracy: {accuracy * 100:.2f}%')\n",
    "\n",
    "# Confusion matrix\n",
    "from sklearn.metrics import confusion_matrix\n",
    "conf_matrix = confusion_matrix(y_test, y_pred)\n",
    "\n",
    "# Plot confusion matrix\n",
    "sns.heatmap(conf_matrix, annot=True, fmt='d', cmap='Blues')\n",
    "plt.xlabel('Predicted')\n",
    "plt.ylabel('Actual')\n",
    "plt.title('Confusion Matrix')\n",
    "plt.show()"
   ]
  },
  {
   "attachments": {},
   "cell_type": "markdown",
   "metadata": {},
   "source": [
    "##### 7 - Feature Importance"
   ]
  },
  {
   "cell_type": "code",
   "execution_count": null,
   "metadata": {},
   "outputs": [],
   "source": [
    "# Plot feature importance\n",
    "importances = model.feature_importances_\n",
    "indices = np.argsort(importances)[::-1]\n",
    "\n",
    "plt.figure(figsize=(12, 6))\n",
    "plt.title(\"Feature Importances\")\n",
    "plt.bar(range(X_train.shape[1]), importances[indices], align=\"center\")\n",
    "plt.xticks(range(X_train.shape[1]), X_train.columns[indices], rotation=90)\n",
    "plt.xlim([-1, X_train.shape[1]])\n",
    "plt.show()"
   ]
  }
 ],
 "metadata": {
  "kernelspec": {
   "display_name": "pygenomics",
   "language": "python",
   "name": "pygenomics"
  },
  "language_info": {
   "codemirror_mode": {
    "name": "ipython",
    "version": 3
   },
   "file_extension": ".py",
   "mimetype": "text/x-python",
   "name": "python",
   "nbconvert_exporter": "python",
   "pygments_lexer": "ipython3",
   "version": "3.11.7"
  },
  "orig_nbformat": 4
 },
 "nbformat": 4,
 "nbformat_minor": 2
}
